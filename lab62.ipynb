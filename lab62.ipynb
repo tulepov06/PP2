{
 "cells": [
  {
   "cell_type": "code",
   "execution_count": 1,
   "metadata": {},
   "outputs": [
    {
     "name": "stdout",
     "output_type": "stream",
     "text": [
      "5\n"
     ]
    }
   ],
   "source": [
    "import math\n",
    "\n",
    "numbers = list(map(int, input().split()))\n",
    "for  i in numbers:\n",
    "    prod_num = math.prod(numbers)\n",
    "print(prod_num)"
   ]
  },
  {
   "cell_type": "code",
   "execution_count": null,
   "metadata": {},
   "outputs": [
    {
     "name": "stdout",
     "output_type": "stream",
     "text": [
      "Upper case count: 4\n",
      "Lower case count: 22\n"
     ]
    }
   ],
   "source": [
    "text = \"My name is Tulep Alizhan.\"\n",
    "A = False\n",
    "Upper_case = 0\n",
    "Lower_case = 0\n",
    "for i in text:\n",
    "    if i.isupper() == A:\n",
    "        Lower_case+=1\n",
    "    else:\n",
    "        Upper_case+=1\n",
    "print(f\"Upper case count: {Upper_case}\\nLower case count: {Lower_case}\")"
   ]
  },
  {
   "cell_type": "code",
   "execution_count": 5,
   "metadata": {},
   "outputs": [
    {
     "name": "stdout",
     "output_type": "stream",
     "text": [
      "True\n"
     ]
    }
   ],
   "source": [
    "def is_palindrome(s):\n",
    "    return s == s[::-1]\n",
    "\n",
    "string = input(\"Enter a string: \")\n",
    "print(is_palindrome(string))"
   ]
  }
 ],
 "metadata": {
  "kernelspec": {
   "display_name": "Python 3",
   "language": "python",
   "name": "python3"
  },
  "language_info": {
   "codemirror_mode": {
    "name": "ipython",
    "version": 3
   },
   "file_extension": ".py",
   "mimetype": "text/x-python",
   "name": "python",
   "nbconvert_exporter": "python",
   "pygments_lexer": "ipython3",
   "version": "3.9.6"
  }
 },
 "nbformat": 4,
 "nbformat_minor": 2
}
