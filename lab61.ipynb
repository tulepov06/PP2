{
 "cells": [
  {
   "cell_type": "code",
   "execution_count": 2,
   "metadata": {},
   "outputs": [
    {
     "name": "stdout",
     "output_type": "stream",
     "text": [
      "Directories:\n",
      ".git\n",
      "\n",
      "Files:\n",
      "labb3.ipynb\n",
      "a.ipynb\n",
      ".DS_Store\n",
      "generators.ipynb\n",
      "lab61.ipynb\n",
      "lab2.ipynb\n",
      "sample-data.json\n",
      "lab.ipynb\n",
      "json.ipynb\n",
      "math.ipynb\n",
      "lab3.ipynb\n",
      "lambda.ipynb\n",
      "\n",
      "All directories and files\n",
      "labb3.ipynb\n",
      "a.ipynb\n",
      ".DS_Store\n",
      "generators.ipynb\n",
      "lab61.ipynb\n",
      "lab2.ipynb\n",
      "sample-data.json\n",
      "lab.ipynb\n",
      "json.ipynb\n",
      "math.ipynb\n",
      "lab3.ipynb\n",
      ".git\n",
      "lambda.ipynb\n"
     ]
    }
   ],
   "source": [
    "import os\n",
    "\n",
    "def list_dir_files(path):\n",
    "    print(\"Directories:\")\n",
    "    for item in os.listdir(path):\n",
    "        if os.path.isdir(os.path.join(path,item)):\n",
    "            print(item)\n",
    "    print(\"\\nFiles:\")\n",
    "    for item in os.listdir(path):\n",
    "        if os.path.isfile(os.path.join(path,item)):\n",
    "            print(item)\n",
    "    print(\"\\nAll directories and files\")\n",
    "    for item in os.listdir(path):\n",
    "        print(item)\n",
    "path=\"/Users/alizhantulep/Desktop/PP2/lab4\"\n",
    "list_dir_files(path)"
   ]
  },
  {
   "cell_type": "code",
   "execution_count": null,
   "metadata": {},
   "outputs": [
    {
     "name": "stdout",
     "output_type": "stream",
     "text": [
      "Path: /Users/alizhantulep/Desktop/PP2/lab4\n",
      "Exists: Yes\n",
      "Readability: Yes\n",
      "Writability: Yes\n",
      "Executability: Yes\n"
     ]
    }
   ],
   "source": [
    "import os\n",
    "def check_path(path):\n",
    "    if not os.path.exists(path):\n",
    "        print(f\"Does not exist {path}\")\n",
    "        return\n",
    "    print(f\"Path: {path}\")\n",
    "    print(f\"Exists: {'Yes' if os.path.exists(path) else 'No'}\")\n",
    "    print(f\"Readability: {'Yes' if os.access(path, os.R_OK) else 'No'}\")\n",
    "    print(f\"Writability: {'Yes' if os.access(path, os.W_OK) else 'No'}\")\n",
    "    print(f\"Executability: {'Yes' if os.access(path, os.X_OK) else 'No'}\")\n",
    "\n",
    "check_path(path)"
   ]
  },
  {
   "cell_type": "code",
   "execution_count": 4,
   "metadata": {},
   "outputs": [
    {
     "name": "stdout",
     "output_type": "stream",
     "text": [
      "Name: lab4\n"
     ]
    }
   ],
   "source": [
    "import os\n",
    "\n",
    "def list_items(path):\n",
    "    if not os.path.exists(path):\n",
    "        print(f\"Does not exist {path}\")\n",
    "    else:\n",
    "        print(\"Name:\",os.path.basename(path))\n",
    "path = \"/Users/alizhantulep/Desktop/PP2/lab4\"\n",
    "list_items(path)\n"
   ]
  },
  {
   "cell_type": "code",
   "execution_count": 6,
   "metadata": {},
   "outputs": [
    {
     "name": "stdout",
     "output_type": "stream",
     "text": [
      "11\n"
     ]
    }
   ],
   "source": [
    "with open(\"my_file.txt\") as file:\n",
    "    line_count = len(file.readlines())\n",
    "print(line_count)"
   ]
  },
  {
   "cell_type": "code",
   "execution_count": 8,
   "metadata": {},
   "outputs": [
    {
     "name": "stdout",
     "output_type": "stream",
     "text": [
      "<_io.TextIOWrapper name='my_file.txt' mode='w' encoding='utf-8'>\n"
     ]
    }
   ],
   "source": [
    "file = \"my_file.txt\"\n",
    "with open(file , \"w\" , encoding=\"utf-8\") as file:\n",
    "    file.write(\"\"\"Welcome info mat!\n",
    "Defining poverty: consensual approach.\n",
    "Operationalising social class: the Erikson-Goldthorpe-Portocarero (EGP) schema.\n",
    "Measuring inequality: Gini coefficient (able to interpret)\n",
    "Measuring inequality: Lorenz curve (able to draw/interpret)\n",
    "Measuring inequality: income quintile ratio (able to calculate/interpret)\n",
    "ining poverty: consensual approach.\n",
    "Operationalising social class: the Erikson-Goldthorpe-Portocarero (EGP) schema.\n",
    "Measuring inequality: Gini coefficient (able to interpret)\n",
    "Measuring inequality: Lorenz curve (able to draw/interpret)\n",
    "Measuring inequality: income quintile ratio (able to calculate/interpret)\"\"\")\n",
    "print(file)"
   ]
  },
  {
   "cell_type": "code",
   "execution_count": 9,
   "metadata": {},
   "outputs": [
    {
     "name": "stdout",
     "output_type": "stream",
     "text": [
      "26 text files (A-Z) have been created successfully!\n"
     ]
    }
   ],
   "source": [
    "import os\n",
    "import string\n",
    "\n",
    "directory = \"alphabet_files\"\n",
    "os.makedirs(directory, exist_ok=True)\n",
    "\n",
    "for letter in string.ascii_uppercase:\n",
    "    file_path = os.path.join(directory, f\"{letter}.txt\")\n",
    "    with open(file_path, \"w\", encoding=\"utf-8\") as file:\n",
    "        file.write(f\"This is file {letter}.txt\\n\")\n",
    "\n",
    "print(\"26 text files (A-Z) have been created successfully!\")"
   ]
  },
  {
   "cell_type": "code",
   "execution_count": 10,
   "metadata": {},
   "outputs": [
    {
     "name": "stdout",
     "output_type": "stream",
     "text": [
      "Error: Source file does not exist.\n"
     ]
    }
   ],
   "source": [
    "import shutil\n",
    "\n",
    "def copy_file(source, destination):\n",
    "    try:\n",
    "        shutil.copy(source, destination)\n",
    "        print(f\"Contents of '{source}' copied to '{destination}' successfully!\")\n",
    "    except FileNotFoundError:\n",
    "        print(\"Error: Source file does not exist.\")\n",
    "    except PermissionError:\n",
    "        print(\"Error: Permission denied.\")\n",
    "    except Exception as e:\n",
    "        print(f\"An unexpected error occurred: {e}\")\n",
    "\n",
    "source_file = \"source.txt\"\n",
    "destination_file = \"destination.txt\"\n",
    "\n",
    "copy_file(source_file, destination_file)"
   ]
  },
  {
   "cell_type": "code",
   "execution_count": 11,
   "metadata": {},
   "outputs": [
    {
     "name": "stdout",
     "output_type": "stream",
     "text": [
      "Error: File does not exist.\n"
     ]
    }
   ],
   "source": [
    "import os\n",
    "\n",
    "def delete_file(file_path):\n",
    "    if not os.path.exists(file_path):\n",
    "        print(\"Error: File does not exist.\")\n",
    "        return\n",
    "\n",
    "    if not os.access(file_path, os.W_OK):\n",
    "        print(\"Error: No permission to delete the file.\")\n",
    "        return\n",
    "\n",
    "    try:\n",
    "        os.remove(file_path)\n",
    "        print(f\"File '{file_path}' has been deleted successfully.\")\n",
    "    except Exception as e:\n",
    "        print(f\"An error occurred while deleting the file: {e}\")\n",
    "file_to_delete = \"example.txt\"\n",
    "delete_file(file_to_delete)"
   ]
  }
 ],
 "metadata": {
  "kernelspec": {
   "display_name": "Python 3",
   "language": "python",
   "name": "python3"
  },
  "language_info": {
   "codemirror_mode": {
    "name": "ipython",
    "version": 3
   },
   "file_extension": ".py",
   "mimetype": "text/x-python",
   "name": "python",
   "nbconvert_exporter": "python",
   "pygments_lexer": "ipython3",
   "version": "3.9.6"
  }
 },
 "nbformat": 4,
 "nbformat_minor": 2
}
