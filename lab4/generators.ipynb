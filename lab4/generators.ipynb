{
 "cells": [
  {
   "cell_type": "code",
   "execution_count": null,
   "metadata": {},
   "outputs": [
    {
     "name": "stdout",
     "output_type": "stream",
     "text": [
      "0\n",
      "1\n",
      "4\n",
      "9\n",
      "16\n",
      "25\n",
      "36\n",
      "49\n",
      "64\n",
      "81\n"
     ]
    }
   ],
   "source": [
    "N = 10\n",
    "a = (i**2 for i in range(N))\n",
    "for i in a:\n",
    "     print(i)"
   ]
  },
  {
   "cell_type": "code",
   "execution_count": 21,
   "metadata": {},
   "outputs": [
    {
     "name": "stdout",
     "output_type": "stream",
     "text": [
      "0, 2, 4, 6, 8, 10, 12, 14, 16, 18, 20, 22, 24\n"
     ]
    }
   ],
   "source": [
    "n = int(input())\n",
    "a = (i for i in range(0,n) if i % 2 == 0)\n",
    "print(\", \".join(map(str,a)))"
   ]
  },
  {
   "cell_type": "code",
   "execution_count": null,
   "metadata": {},
   "outputs": [
    {
     "name": "stdout",
     "output_type": "stream",
     "text": [
      "0 12 24 \n",
      "0 12 24 "
     ]
    }
   ],
   "source": [
    "def div(n):\n",
    "    ls = ((i for i in range (0,n+1) if i % 3 == 0 and i % 4 == 0))\n",
    "    return ls\n",
    "\n",
    "def dif(n):\n",
    "    for i in range (0,n+1):\n",
    "        if (i % 3 == 0 and i % 4 == 0):\n",
    "            yield i\n",
    "n = int(input())\n",
    "for number in div(n):\n",
    "    print (number, end=\" \")\n",
    "\n",
    "print()\n",
    "for number in dif(n):\n",
    "    print(number, end=\" \")"
   ]
  },
  {
   "cell_type": "code",
   "execution_count": null,
   "metadata": {},
   "outputs": [
    {
     "name": "stdout",
     "output_type": "stream",
     "text": [
      "400\n",
      "441\n",
      "484\n",
      "529\n",
      "576\n"
     ]
    }
   ],
   "source": [
    "def squares(a,b):\n",
    "    for i in range (a, b+1):\n",
    "        yield pow(i,2)\n",
    "\n",
    "a = int(input())\n",
    "b = int(input())\n",
    "for i in squares(a,b):\n",
    "    print(i)"
   ]
  },
  {
   "cell_type": "code",
   "execution_count": null,
   "metadata": {},
   "outputs": [
    {
     "name": "stdout",
     "output_type": "stream",
     "text": [
      "20 19 18 17 16 15 14 13 12 11 10 9 8 7 6 5 4 3 2 1 0 "
     ]
    }
   ],
   "source": [
    "def down(n):\n",
    "    for i in range (n,-1, -1):\n",
    "        yield i\n",
    "\n",
    "n = 20\n",
    "for i in down(n):\n",
    "    print(i, end=\" \")"
   ]
  },
  {
   "cell_type": "code",
   "execution_count": null,
   "metadata": {},
   "outputs": [],
   "source": [
    "'sss'"
   ]
  }
 ],
 "metadata": {
  "kernelspec": {
   "display_name": "Python 3",
   "language": "python",
   "name": "python3"
  },
  "language_info": {
   "codemirror_mode": {
    "name": "ipython",
    "version": 3
   },
   "file_extension": ".py",
   "mimetype": "text/x-python",
   "name": "python",
   "nbconvert_exporter": "python",
   "pygments_lexer": "ipython3",
   "version": "3.9.6"
  }
 },
 "nbformat": 4,
 "nbformat_minor": 2
}
