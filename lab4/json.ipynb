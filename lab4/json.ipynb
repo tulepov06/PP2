{
 "cells": [
  {
   "cell_type": "code",
   "execution_count": 1,
   "metadata": {},
   "outputs": [
    {
     "name": "stdout",
     "output_type": "stream",
     "text": [
      "Inherit status\n",
      "====================================================================================\n",
      "DN                                                 Description          Speed   MTU       \n",
      "------------------------------------------------------------------------------------\n",
      "topology/pod-1/node-201/sys/phys-[eth1/33]                              inherit 9150      \n",
      "topology/pod-1/node-201/sys/phys-[eth1/34]                              inherit 9150      \n",
      "topology/pod-1/node-201/sys/phys-[eth1/35]                              inherit 9150      \n",
      "topology/pod-1/node-201/sys/phys-[eth1/36]                              inherit 9150      \n",
      "topology/pod-1/node-201/sys/phys-[eth1/1]                               inherit 9150      \n",
      "topology/pod-1/node-201/sys/phys-[eth1/2]                               inherit 9150      \n",
      "topology/pod-1/node-201/sys/phys-[eth1/3]                               inherit 9150      \n",
      "topology/pod-1/node-201/sys/phys-[eth1/4]                               inherit 9150      \n",
      "topology/pod-1/node-201/sys/phys-[eth1/5]                               inherit 9150      \n",
      "topology/pod-1/node-201/sys/phys-[eth1/6]                               inherit 9150      \n",
      "topology/pod-1/node-201/sys/phys-[eth1/7]                               inherit 9150      \n",
      "topology/pod-1/node-201/sys/phys-[eth1/8]                               inherit 9150      \n",
      "topology/pod-1/node-201/sys/phys-[eth1/9]                               inherit 9150      \n",
      "topology/pod-1/node-201/sys/phys-[eth1/10]                              inherit 9150      \n",
      "topology/pod-1/node-201/sys/phys-[eth1/11]                              inherit 9150      \n",
      "topology/pod-1/node-201/sys/phys-[eth1/12]                              inherit 9150      \n",
      "topology/pod-1/node-201/sys/phys-[eth1/13]                              inherit 9150      \n",
      "topology/pod-1/node-201/sys/phys-[eth1/14]                              inherit 9150      \n"
     ]
    }
   ],
   "source": [
    "import json\n",
    "with open(\"/Users/alizhantulep/Desktop/PP2/lab4/sample-data.json\", \"r\") as f:\n",
    "    data = json.load(f)\n",
    "print(\"Inherit status\")\n",
    "print(\"=\"*84)\n",
    "DN=\"DN\"\n",
    "Description=\"Description\"\n",
    "Speed=\"Speed\"\n",
    "MTU=\"MTU\"\n",
    "print(f\"{DN:50} {Description:20} {Speed:7} {MTU:10}\") \n",
    "print(\"-\"*84)\n",
    "for item in data[\"imdata\"]:  \n",
    "    attr = item[\"l1PhysIf\"][\"attributes\"]  \n",
    "    dn = attr.get(\"dn\")\n",
    "    descr = attr.get(\"descr\")\n",
    "    speed = attr.get(\"speed\")\n",
    "    mtu = attr.get(\"mtu\")\n",
    "    print(f\"{dn:50} {descr:20} {speed:7} {mtu:10}\")  "
   ]
  }
 ],
 "metadata": {
  "kernelspec": {
   "display_name": "Python 3",
   "language": "python",
   "name": "python3"
  },
  "language_info": {
   "codemirror_mode": {
    "name": "ipython",
    "version": 3
   },
   "file_extension": ".py",
   "mimetype": "text/x-python",
   "name": "python",
   "nbconvert_exporter": "python",
   "pygments_lexer": "ipython3",
   "version": "3.9.6"
  }
 },
 "nbformat": 4,
 "nbformat_minor": 2
}
