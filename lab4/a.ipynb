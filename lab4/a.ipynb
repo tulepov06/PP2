{
 "cells": [
  {
   "cell_type": "code",
   "execution_count": 57,
   "metadata": {},
   "outputs": [
    {
     "name": "stdout",
     "output_type": "stream",
     "text": [
      "1984.466617\n"
     ]
    }
   ],
   "source": [
    "def covert_to_ounces(n):\n",
    "    result=n*28.3495231\n",
    "    return result\n",
    "\n",
    "grams=70\n",
    "print(covert_to_ounces(grams))"
   ]
  },
  {
   "cell_type": "code",
   "execution_count": 58,
   "metadata": {},
   "outputs": [
    {
     "name": "stdout",
     "output_type": "stream",
     "text": [
      "34.44444444444444\n"
     ]
    }
   ],
   "source": [
    "def convert_to_temp(Fal):\n",
    "    C =  Fal - 32\n",
    "    C = 5/9 * C\n",
    "    return C\n",
    "\n",
    "Eee = 94\n",
    "print(convert_to_temp(Eee))"
   ]
  },
  {
   "cell_type": "code",
   "execution_count": 59,
   "metadata": {},
   "outputs": [
    {
     "name": "stdout",
     "output_type": "stream",
     "text": [
      "(23.0, 12.0)\n"
     ]
    }
   ],
   "source": [
    "def solve(numheads, numlegs):\n",
    "    chicken = (2 * numheads) - (numlegs/2)\n",
    "    rabbits = (numlegs/2) - numheads\n",
    "    return chicken, rabbits\n",
    "\n",
    "numheads=35\n",
    "numlegs=94\n",
    "print(solve(int(numheads),int(numlegs)))\n"
   ]
  },
  {
   "cell_type": "code",
   "execution_count": 60,
   "metadata": {},
   "outputs": [
    {
     "name": "stdout",
     "output_type": "stream",
     "text": [
      "[1, 3, 5, 7, 11]\n"
     ]
    }
   ],
   "source": [
    "def filter_prime(n):\n",
    "    e = 0\n",
    "    for i in range (2,n-1):\n",
    "        if (n%i == 0):\n",
    "            e = 1\n",
    "            return False\n",
    "    if (e == 0):\n",
    "        return True\n",
    "        \n",
    "number_list = [1,3,5,6,7,8,11,34]\n",
    "new_list = list(filter(filter_prime, number_list))\n",
    "print(new_list)"
   ]
  },
  {
   "cell_type": "code",
   "execution_count": 61,
   "metadata": {},
   "outputs": [
    {
     "name": "stdout",
     "output_type": "stream",
     "text": [
      "('w', 'e', 'd')\n",
      "('w', 'd', 'e')\n",
      "('e', 'w', 'd')\n",
      "('e', 'd', 'w')\n",
      "('d', 'w', 'e')\n",
      "('d', 'e', 'w')\n"
     ]
    }
   ],
   "source": [
    "from itertools import permutations\n",
    "def get_permutation(string):\n",
    "    for i in list(permutations(string)):\n",
    "        print(i)\n",
    "perm = \"wed\"\n",
    "get_permutation(perm)"
   ]
  },
  {
   "cell_type": "code",
   "execution_count": 62,
   "metadata": {},
   "outputs": [
    {
     "name": "stdout",
     "output_type": "stream",
     "text": [
      "['ready', 'are', 'We']\n"
     ]
    }
   ],
   "source": [
    "def word_reserved(str):\n",
    "    n = str.split()\n",
    "    n.reverse()\n",
    "    print(n)\n",
    "strrr = \"We are ready\"\n",
    "word_reserved(strrr)    "
   ]
  },
  {
   "cell_type": "code",
   "execution_count": 63,
   "metadata": {},
   "outputs": [
    {
     "name": "stdout",
     "output_type": "stream",
     "text": [
      "True\n"
     ]
    }
   ],
   "source": [
    "def has_33(nums):\n",
    "    for i in range (len(nums) - 1):\n",
    "        if (nums[i]== nums[i+1] and nums[i] == 3):\n",
    "            return True\n",
    "www = [1,3,4,5,6,3,3]\n",
    "print(has_33(www))\n",
    "\n"
   ]
  },
  {
   "cell_type": "code",
   "execution_count": 64,
   "metadata": {},
   "outputs": [
    {
     "name": "stdout",
     "output_type": "stream",
     "text": [
      "False\n"
     ]
    }
   ],
   "source": [
    "def spy_game(nums):\n",
    "    e = 0\n",
    "    for i in range (len(nums) - 2):\n",
    "        if (nums[i] == 0 and nums[i+1] == 0 and nums[i+2] == 7):\n",
    "            e = 1\n",
    "            return True\n",
    "    if (e == 0):\n",
    "        return False\n",
    "print(spy_game([1,7,2,0,4,5,0]))"
   ]
  },
  {
   "cell_type": "code",
   "execution_count": 65,
   "metadata": {},
   "outputs": [
    {
     "name": "stdout",
     "output_type": "stream",
     "text": [
      "113.03999999999999\n"
     ]
    }
   ],
   "source": [
    "def volume(radius):\n",
    "    return (4/3 * 3.14 * pow(radius,3))\n",
    "radius = 3\n",
    "print(volume(radius))"
   ]
  },
  {
   "cell_type": "code",
   "execution_count": 66,
   "metadata": {},
   "outputs": [
    {
     "name": "stdout",
     "output_type": "stream",
     "text": [
      "[1, 2, 3, 4]\n"
     ]
    }
   ],
   "source": [
    "arr = [1,2,3,4,3,2,1,3]\n",
    "def new_unique(arr):\n",
    "    rra = []\n",
    "    for i in arr:\n",
    "        e = 0\n",
    "        for j in rra:\n",
    "            if i == j:\n",
    "                e = 1\n",
    "        if (e == 0):\n",
    "            rra.append(i)\n",
    "    return rra\n",
    "eea = new_unique(arr)\n",
    "print(eea)"
   ]
  },
  {
   "cell_type": "code",
   "execution_count": 67,
   "metadata": {},
   "outputs": [
    {
     "data": {
      "text/plain": [
       "True"
      ]
     },
     "execution_count": 67,
     "metadata": {},
     "output_type": "execute_result"
    }
   ],
   "source": [
    "def is_polindrom(s:str):\n",
    "    result=''\n",
    "    for i in range(len(s)-1,-1,-1):\n",
    "        result+=s[i]\n",
    "    if s==result:\n",
    "        return True\n",
    "    else:\n",
    "        return False\n",
    "    \n",
    "    \n",
    "is_polindrom(\"madam\")\n"
   ]
  },
  {
   "cell_type": "code",
   "execution_count": 68,
   "metadata": {},
   "outputs": [
    {
     "name": "stdout",
     "output_type": "stream",
     "text": [
      "* * * * \n",
      "\n",
      "* * * * * \n",
      "\n",
      "* * * * * * * * * \n",
      "\n"
     ]
    }
   ],
   "source": [
    "def histogram(n):\n",
    "    for i in n:\n",
    "        for j in range(0,i):\n",
    "            print('*',end=' ')\n",
    "        print(\"\\n\")\n",
    "\n",
    "histogram([4,5,9])\n"
   ]
  },
  {
   "cell_type": "code",
   "execution_count": 56,
   "metadata": {},
   "outputs": [
    {
     "name": "stdout",
     "output_type": "stream",
     "text": [
      "Hello! What is your name?\n",
      "\n",
      "Well, , I am thinking of a number between 1 and 20.\n",
      "Take a guess.\n",
      "Please enter a valid number between 1 and 20.\n",
      "Take a guess.\n",
      "Please enter a valid number between 1 and 20.\n",
      "Take a guess.\n",
      "Please enter a valid number between 1 and 20.\n",
      "Take a guess.\n",
      "Please enter a valid number between 1 and 20.\n",
      "Take a guess.\n",
      "Please enter a valid number between 1 and 20.\n",
      "Take a guess.\n"
     ]
    },
    {
     "ename": "KeyboardInterrupt",
     "evalue": "Interrupted by user",
     "output_type": "error",
     "traceback": [
      "\u001b[0;31m---------------------------------------------------------------------------\u001b[0m",
      "\u001b[0;31mKeyboardInterrupt\u001b[0m                         Traceback (most recent call last)",
      "Cell \u001b[0;32mIn[56], line 28\u001b[0m\n\u001b[1;32m     25\u001b[0m         \u001b[38;5;28;01mexcept\u001b[39;00m \u001b[38;5;167;01mValueError\u001b[39;00m:\n\u001b[1;32m     26\u001b[0m             \u001b[38;5;28mprint\u001b[39m(\u001b[38;5;124m\"\u001b[39m\u001b[38;5;124mPlease enter a valid number between 1 and 20.\u001b[39m\u001b[38;5;124m\"\u001b[39m)\n\u001b[0;32m---> 28\u001b[0m \u001b[43mguess_the_number\u001b[49m\u001b[43m(\u001b[49m\u001b[43m)\u001b[49m\n",
      "Cell \u001b[0;32mIn[56], line 15\u001b[0m, in \u001b[0;36mguess_the_number\u001b[0;34m()\u001b[0m\n\u001b[1;32m     13\u001b[0m \u001b[38;5;28mprint\u001b[39m(\u001b[38;5;124m\"\u001b[39m\u001b[38;5;124mTake a guess.\u001b[39m\u001b[38;5;124m\"\u001b[39m)\n\u001b[1;32m     14\u001b[0m \u001b[38;5;28;01mtry\u001b[39;00m:\n\u001b[0;32m---> 15\u001b[0m     guess \u001b[38;5;241m=\u001b[39m \u001b[38;5;28mint\u001b[39m(\u001b[38;5;28;43minput\u001b[39;49m\u001b[43m(\u001b[49m\u001b[43m)\u001b[49m)\n\u001b[1;32m     16\u001b[0m     attempts \u001b[38;5;241m+\u001b[39m\u001b[38;5;241m=\u001b[39m \u001b[38;5;241m1\u001b[39m\n\u001b[1;32m     18\u001b[0m     \u001b[38;5;28;01mif\u001b[39;00m guess \u001b[38;5;241m<\u001b[39m secret_number:\n",
      "File \u001b[0;32m~/Library/Python/3.9/lib/python/site-packages/ipykernel/kernelbase.py:1282\u001b[0m, in \u001b[0;36mKernel.raw_input\u001b[0;34m(self, prompt)\u001b[0m\n\u001b[1;32m   1280\u001b[0m     msg \u001b[38;5;241m=\u001b[39m \u001b[38;5;124m\"\u001b[39m\u001b[38;5;124mraw_input was called, but this frontend does not support input requests.\u001b[39m\u001b[38;5;124m\"\u001b[39m\n\u001b[1;32m   1281\u001b[0m     \u001b[38;5;28;01mraise\u001b[39;00m StdinNotImplementedError(msg)\n\u001b[0;32m-> 1282\u001b[0m \u001b[38;5;28;01mreturn\u001b[39;00m \u001b[38;5;28;43mself\u001b[39;49m\u001b[38;5;241;43m.\u001b[39;49m\u001b[43m_input_request\u001b[49m\u001b[43m(\u001b[49m\n\u001b[1;32m   1283\u001b[0m \u001b[43m    \u001b[49m\u001b[38;5;28;43mstr\u001b[39;49m\u001b[43m(\u001b[49m\u001b[43mprompt\u001b[49m\u001b[43m)\u001b[49m\u001b[43m,\u001b[49m\n\u001b[1;32m   1284\u001b[0m \u001b[43m    \u001b[49m\u001b[38;5;28;43mself\u001b[39;49m\u001b[38;5;241;43m.\u001b[39;49m\u001b[43m_parent_ident\u001b[49m\u001b[43m[\u001b[49m\u001b[38;5;124;43m\"\u001b[39;49m\u001b[38;5;124;43mshell\u001b[39;49m\u001b[38;5;124;43m\"\u001b[39;49m\u001b[43m]\u001b[49m\u001b[43m,\u001b[49m\n\u001b[1;32m   1285\u001b[0m \u001b[43m    \u001b[49m\u001b[38;5;28;43mself\u001b[39;49m\u001b[38;5;241;43m.\u001b[39;49m\u001b[43mget_parent\u001b[49m\u001b[43m(\u001b[49m\u001b[38;5;124;43m\"\u001b[39;49m\u001b[38;5;124;43mshell\u001b[39;49m\u001b[38;5;124;43m\"\u001b[39;49m\u001b[43m)\u001b[49m\u001b[43m,\u001b[49m\n\u001b[1;32m   1286\u001b[0m \u001b[43m    \u001b[49m\u001b[43mpassword\u001b[49m\u001b[38;5;241;43m=\u001b[39;49m\u001b[38;5;28;43;01mFalse\u001b[39;49;00m\u001b[43m,\u001b[49m\n\u001b[1;32m   1287\u001b[0m \u001b[43m\u001b[49m\u001b[43m)\u001b[49m\n",
      "File \u001b[0;32m~/Library/Python/3.9/lib/python/site-packages/ipykernel/kernelbase.py:1325\u001b[0m, in \u001b[0;36mKernel._input_request\u001b[0;34m(self, prompt, ident, parent, password)\u001b[0m\n\u001b[1;32m   1322\u001b[0m \u001b[38;5;28;01mexcept\u001b[39;00m \u001b[38;5;167;01mKeyboardInterrupt\u001b[39;00m:\n\u001b[1;32m   1323\u001b[0m     \u001b[38;5;66;03m# re-raise KeyboardInterrupt, to truncate traceback\u001b[39;00m\n\u001b[1;32m   1324\u001b[0m     msg \u001b[38;5;241m=\u001b[39m \u001b[38;5;124m\"\u001b[39m\u001b[38;5;124mInterrupted by user\u001b[39m\u001b[38;5;124m\"\u001b[39m\n\u001b[0;32m-> 1325\u001b[0m     \u001b[38;5;28;01mraise\u001b[39;00m \u001b[38;5;167;01mKeyboardInterrupt\u001b[39;00m(msg) \u001b[38;5;28;01mfrom\u001b[39;00m\u001b[38;5;250m \u001b[39m\u001b[38;5;28;01mNone\u001b[39;00m\n\u001b[1;32m   1326\u001b[0m \u001b[38;5;28;01mexcept\u001b[39;00m \u001b[38;5;167;01mException\u001b[39;00m:\n\u001b[1;32m   1327\u001b[0m     \u001b[38;5;28mself\u001b[39m\u001b[38;5;241m.\u001b[39mlog\u001b[38;5;241m.\u001b[39mwarning(\u001b[38;5;124m\"\u001b[39m\u001b[38;5;124mInvalid Message:\u001b[39m\u001b[38;5;124m\"\u001b[39m, exc_info\u001b[38;5;241m=\u001b[39m\u001b[38;5;28;01mTrue\u001b[39;00m)\n",
      "\u001b[0;31mKeyboardInterrupt\u001b[0m: Interrupted by user"
     ]
    }
   ],
   "source": [
    "import random\n",
    "\n",
    "def guess_the_number():\n",
    "    print(\"Hello! What is your name?\")\n",
    "    name = input()\n",
    "\n",
    "    print(f\"\\nWell, {name}, I am thinking of a number between 1 and 20.\")\n",
    "\n",
    "    secret_number = random.randint(1, 20)\n",
    "    attempts = 0\n",
    "\n",
    "    while True:\n",
    "        print(\"Take a guess.\")\n",
    "        try:\n",
    "            guess = int(input())\n",
    "            attempts += 1\n",
    "\n",
    "            if guess < secret_number:\n",
    "                print(\"Your guess is too low.\")\n",
    "            elif guess > secret_number:\n",
    "                print(\"Your guess is too high.\")\n",
    "            else:\n",
    "                print(f\"Good job, {name}! You guessed my number in {attempts} guesses!\")\n",
    "                break\n",
    "        except ValueError:\n",
    "            print(\"Please enter a valid number between 1 and 20.\")\n",
    "\n",
    "guess_the_number()"
   ]
  }
 ],
 "metadata": {
  "kernelspec": {
   "display_name": "Python 3",
   "language": "python",
   "name": "python3"
  },
  "language_info": {
   "codemirror_mode": {
    "name": "ipython",
    "version": 3
   },
   "file_extension": ".py",
   "mimetype": "text/x-python",
   "name": "python",
   "nbconvert_exporter": "python",
   "pygments_lexer": "ipython3",
   "version": "3.9.6"
  }
 },
 "nbformat": 4,
 "nbformat_minor": 2
}
