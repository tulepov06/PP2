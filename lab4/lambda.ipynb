{
 "cells": [
  {
   "cell_type": "code",
   "execution_count": 43,
   "metadata": {},
   "outputs": [
    {
     "name": "stdout",
     "output_type": "stream",
     "text": [
      "02/10/25\n",
      "02/11/25\n",
      "02/12/25\n",
      "02/13/25\n",
      "02/14/25\n"
     ]
    }
   ],
   "source": [
    "from datetime import timedelta\n",
    "from datetime import datetime\n",
    "\n",
    "a = datetime.today()\n",
    "b = (datetime.today() + timedelta(days=1)).strftime(\"%D\")\n",
    "c = (datetime.today() + timedelta(days=2)).strftime(\"%D\")\n",
    "d = (datetime.today() + timedelta(days=3)).strftime(\"%D\")\n",
    "e = (datetime.today() + timedelta(days=4)).strftime(\"%D\")\n",
    "f = (datetime.today() + timedelta(days=5)).strftime(\"%D\")\n",
    "print(b)\n",
    "print(c)\n",
    "print(d)\n",
    "print(e)\n",
    "print(f)\n"
   ]
  },
  {
   "cell_type": "code",
   "execution_count": 44,
   "metadata": {},
   "outputs": [
    {
     "name": "stdout",
     "output_type": "stream",
     "text": [
      "2025-02-09 18:24:52.459468\n",
      "2025-02-10 18:24:52.459561\n",
      "2025-02-08 18:24:52.459612\n"
     ]
    }
   ],
   "source": [
    "from datetime import datetime\n",
    "from datetime import timedelta\n",
    "print(datetime.today())\n",
    "print(datetime.today() + timedelta(days=1))\n",
    "print(datetime.today() + timedelta(days= -1))"
   ]
  },
  {
   "cell_type": "code",
   "execution_count": 48,
   "metadata": {},
   "outputs": [
    {
     "name": "stdout",
     "output_type": "stream",
     "text": [
      "291977\n"
     ]
    }
   ],
   "source": [
    "from datetime import datetime\n",
    "\n",
    "print((datetime.today()).strftime(\"%f\"))"
   ]
  },
  {
   "cell_type": "code",
   "execution_count": 56,
   "metadata": {},
   "outputs": [
    {
     "name": "stdout",
     "output_type": "stream",
     "text": [
      "86400.000046\n"
     ]
    }
   ],
   "source": [
    "from datetime import datetime\n",
    "from datetime import timedelta\n",
    "\n",
    "a = datetime.today()\n",
    "b = datetime.today() + timedelta(days=1)\n",
    "print((b-a).total_seconds())\n"
   ]
  }
 ],
 "metadata": {
  "kernelspec": {
   "display_name": "Python 3",
   "language": "python",
   "name": "python3"
  },
  "language_info": {
   "codemirror_mode": {
    "name": "ipython",
    "version": 3
   },
   "file_extension": ".py",
   "mimetype": "text/x-python",
   "name": "python",
   "nbconvert_exporter": "python",
   "pygments_lexer": "ipython3",
   "version": "3.9.6"
  }
 },
 "nbformat": 4,
 "nbformat_minor": 2
}
