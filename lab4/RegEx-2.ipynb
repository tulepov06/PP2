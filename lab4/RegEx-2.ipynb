{
 "cells": [
  {
   "cell_type": "markdown",
   "id": "ab2fce3a-fa60-459e-bf2d-1bf59e1245f2",
   "metadata": {},
   "source": [
    "Exercise1"
   ]
  },
  {
   "cell_type": "code",
   "execution_count": 1,
   "id": "4591a94c-aa2b-43fe-b59c-2df1ccb248a2",
   "metadata": {},
   "outputs": [
    {
     "name": "stdout",
     "output_type": "stream",
     "text": [
      "hello: True\n",
      "hello.ab: True\n",
      "hello.ab.ab: True\n",
      "abc: True\n"
     ]
    }
   ],
   "source": [
    "import re\n",
    "\n",
    "pattern = r\"^.*(\\.ab)*$\"\n",
    "test_strings = [\"hello\", \"hello.ab\", \"hello.ab.ab\", \"abc\"]\n",
    "for s in test_strings:\n",
    "    print(f\"{s}: {bool(re.match(pattern, s))}\")"
   ]
  },
  {
   "cell_type": "markdown",
   "id": "fe3dbabd-047a-46cd-8110-07206fe7a9b3",
   "metadata": {},
   "source": [
    "Exercise2"
   ]
  },
  {
   "cell_type": "code",
   "execution_count": 4,
   "id": "48fd8e6a-7780-4c2f-ac9b-afaa31038d04",
   "metadata": {},
   "outputs": [
    {
     "name": "stdout",
     "output_type": "stream",
     "text": [
      "hello: False\n",
      "hello.ab: False\n",
      "hello.ab.ab: True\n",
      "abc: False\n",
      "hello.ab.ab.ab: True\n"
     ]
    }
   ],
   "source": [
    "import re\n",
    "\n",
    "pattern = r\"^.*(\\.ab){2,3}$\"\n",
    "test_strings = [\"hello\", \"hello.ab\", \"hello.ab.ab\", \"abc\", \"hello.ab.ab.ab\"]\n",
    "for s in test_strings:\n",
    "    print(f\"{s}: {bool(re.match(pattern, s))}\")"
   ]
  },
  {
   "cell_type": "markdown",
   "id": "4e2c8362-0593-4b59-b399-5a914e9eadd9",
   "metadata": {},
   "source": [
    "Exercise3"
   ]
  },
  {
   "cell_type": "code",
   "execution_count": 7,
   "id": "3a737fcb-20fb-4c3f-a4df-1810d20e43e1",
   "metadata": {},
   "outputs": [
    {
     "name": "stdout",
     "output_type": "stream",
     "text": [
      "hello_world: True\n",
      "test_value: True\n",
      "snake_case: True\n",
      "Hello_World: False\n"
     ]
    }
   ],
   "source": [
    "import re\n",
    "\n",
    "pattern = r\"\\b[a-z]+_[a-z]+\\b\"\n",
    "test_strings = [\"hello_world\", \"test_value\", \"snake_case\", \"Hello_World\"]\n",
    "\n",
    "for s in test_strings:\n",
    "    print(f\"{s}: {bool(re.search(pattern, s))}\")\n"
   ]
  },
  {
   "cell_type": "markdown",
   "id": "c16bb7b2-ca64-4cd8-990b-ac24745188aa",
   "metadata": {},
   "source": [
    "Exercise4"
   ]
  },
  {
   "cell_type": "code",
   "execution_count": 10,
   "id": "ef267d3d-1255-4eff-9807-411b3a5b3e28",
   "metadata": {},
   "outputs": [
    {
     "name": "stdout",
     "output_type": "stream",
     "text": [
      "Hello: True\n",
      "World: True\n",
      "Python: True\n",
      "hello: False\n",
      "PYTHON: False\n"
     ]
    }
   ],
   "source": [
    "import re\n",
    "\n",
    "pattern = r\"\\b[A-Z][a-z]+\\b\"\n",
    "test_strings = [\"Hello\", \"World\", \"Python\", \"hello\", \"PYTHON\"]\n",
    "\n",
    "for s in test_strings:\n",
    "    print(f\"{s}: {bool(re.search(pattern, s))}\")"
   ]
  },
  {
   "cell_type": "markdown",
   "id": "c72829b1-3e22-4957-a904-a6b12c401892",
   "metadata": {},
   "source": [
    "Exercise5"
   ]
  },
  {
   "cell_type": "code",
   "execution_count": 13,
   "id": "c9d71f35-c6d0-4f98-a00e-ecb2308e69e8",
   "metadata": {},
   "outputs": [
    {
     "name": "stdout",
     "output_type": "stream",
     "text": [
      "hello.ab: True\n",
      "test.ab: True\n",
      "word.ab.ab: True\n",
      "nothing: False\n"
     ]
    }
   ],
   "source": [
    "pattern = r\"^.*\\.ab$\"\n",
    "test_strings = [\"hello.ab\", \"test.ab\", \"word.ab.ab\", \"nothing\"]\n",
    "\n",
    "for s in test_strings:\n",
    "    print(f\"{s}: {bool(re.match(pattern, s))}\")\n"
   ]
  },
  {
   "cell_type": "markdown",
   "id": "865746a1-e89b-42a4-b4ed-a18d35ef615e",
   "metadata": {},
   "source": [
    "Exercise6"
   ]
  },
  {
   "cell_type": "code",
   "execution_count": 16,
   "id": "d0d4a021-c2be-4e10-8998-462c6eb7ca93",
   "metadata": {},
   "outputs": [
    {
     "name": "stdout",
     "output_type": "stream",
     "text": [
      "Hello::world::How:are:you?\n"
     ]
    }
   ],
   "source": [
    "import re\n",
    "\n",
    "text = \"Hello, world. How are you?\"\n",
    "new_text = re.sub(r\"[ ,\\.]\", \":\", text)\n",
    "print(new_text)"
   ]
  },
  {
   "cell_type": "markdown",
   "id": "14bfd2ea-7276-48cb-ae12-ec9057fd33f0",
   "metadata": {},
   "source": [
    "Exercise7"
   ]
  },
  {
   "cell_type": "code",
   "execution_count": 19,
   "id": "be9511f6-9f81-499b-90c7-a9fcb20da704",
   "metadata": {},
   "outputs": [
    {
     "name": "stdout",
     "output_type": "stream",
     "text": [
      "HelloWorldTest\n"
     ]
    }
   ],
   "source": [
    "def snake_to_camel(snake_str):\n",
    "    return \"\".join(word.capitalize() for word in snake_str.split(\"_\"))\n",
    "\n",
    "print(snake_to_camel(\"hello_world_test\"))"
   ]
  },
  {
   "cell_type": "markdown",
   "id": "339d43ea-6cb0-4f8b-a74a-e514c0996bb1",
   "metadata": {},
   "source": [
    "Exercise8"
   ]
  },
  {
   "cell_type": "code",
   "execution_count": 22,
   "id": "d0d20ab6-fd03-4086-969a-e3fce79faa0b",
   "metadata": {},
   "outputs": [
    {
     "name": "stdout",
     "output_type": "stream",
     "text": [
      "['Split', 'This', 'String']\n"
     ]
    }
   ],
   "source": [
    "import re\n",
    "\n",
    "text = \"SplitThisString\"\n",
    "split_text = re.findall(r'[A-Z][a-z]*', text)\n",
    "print(split_text)"
   ]
  },
  {
   "cell_type": "markdown",
   "id": "9c90f361-329c-4191-a209-35f0a876abdf",
   "metadata": {},
   "source": [
    "Exercise9"
   ]
  },
  {
   "cell_type": "code",
   "execution_count": 25,
   "id": "ab9bc676-064a-4400-bd60-e9cdea28a22c",
   "metadata": {},
   "outputs": [
    {
     "name": "stdout",
     "output_type": "stream",
     "text": [
      "Hello World Example\n"
     ]
    }
   ],
   "source": [
    "import re\n",
    "\n",
    "def insert_spaces(s):\n",
    "    return re.sub(r\"([a-z])([A-Z])\", r\"\\1 \\2\", s)\n",
    "\n",
    "print(insert_spaces(\"HelloWorldExample\"))"
   ]
  },
  {
   "cell_type": "markdown",
   "id": "f4ba4b21-9be2-4882-ab70-392c898a2fe4",
   "metadata": {},
   "source": [
    "Exercise10"
   ]
  },
  {
   "cell_type": "code",
   "execution_count": 28,
   "id": "0798f5ea-ce2b-4642-a3c7-c92f4bdc4596",
   "metadata": {},
   "outputs": [
    {
     "name": "stdout",
     "output_type": "stream",
     "text": [
      "camel_case_example\n"
     ]
    }
   ],
   "source": [
    "import re\n",
    "\n",
    "def camel_to_snake(camel_str):\n",
    "    return re.sub(r'(?<!^)([A-Z])', r'_\\1', camel_str).lower()\n",
    "\n",
    "print(camel_to_snake(\"CamelCaseExample\"))"
   ]
  }
 ],
 "metadata": {
  "kernelspec": {
   "display_name": "Python [conda env:base] *",
   "language": "python",
   "name": "conda-base-py"
  },
  "language_info": {
   "codemirror_mode": {
    "name": "ipython",
    "version": 3
   },
   "file_extension": ".py",
   "mimetype": "text/x-python",
   "name": "python",
   "nbconvert_exporter": "python",
   "pygments_lexer": "ipython3",
   "version": "3.12.7"
  }
 },
 "nbformat": 4,
 "nbformat_minor": 5
}
